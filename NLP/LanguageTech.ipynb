{
 "cells": [
  {
   "cell_type": "code",
   "execution_count": 8,
   "id": "2b01a7ef",
   "metadata": {},
   "outputs": [
    {
     "name": "stdout",
     "output_type": "stream",
     "text": [
      "['!EXCLAMATION-POINT\\tEH K S K L AH M EY SH AH N P OY N T\\n', '\"CLOSE-QUOTE\\tK L OW Z K W OW T\\n', '\"DOUBLE-QUOTE\\tD AH B AH L K W OW T\\n', '\"END-OF-QUOTE\\tEH N D AH V K W OW T\\n', '\"END-QUOTE\\tEH N D K W OW T\\n', '\"IN-QUOTES\\tIH N K W OW T S\\n', '\"QUOTE\\tK W OW T\\n', '\"UNQUOTE\\tAH N K W OW T\\n', '#SHARP-SIGN\\tSH AA R P S AY N\\n', '%PERCENT\\tP ER S EH N T\\n']\n"
     ]
    }
   ],
   "source": [
    "file = open(\"cmubet.txt\", \"r\")\n",
    "line = file.readlines()\n",
    "print(line[:10])"
   ]
  },
  {
   "cell_type": "code",
   "execution_count": 49,
   "id": "9743f62c",
   "metadata": {},
   "outputs": [
    {
     "name": "stdout",
     "output_type": "stream",
     "text": [
      "['AY', ' L AY K', ' T UW', ' R EH D', ' AH', ' B UH K', '']\n"
     ]
    }
   ],
   "source": [
    "string1 = \"They jump over the fence\"\n",
    "string2 = \"The sun gently warmed the soft, green grass in the peaceful meadow.\"\n",
    "string3 = \"AY . L AY K . T UW . R EH D . AH . B UH K .\"\n",
    "\n",
    "word_list1 = string1.split()\n",
    "word_list2 = string2.split()\n",
    "word_list3 = string3.split(\" .\")\n",
    "print(word_list3)"
   ]
  },
  {
   "cell_type": "code",
   "execution_count": 35,
   "id": "b064359d",
   "metadata": {},
   "outputs": [],
   "source": [
    "# Open the file and read its contents\n",
    "with open('cmubet.txt', 'r') as file:\n",
    "    content = file.read().splitlines()\n",
    "\n",
    "# 빈 리스트 생성\n",
    "keys = []\n",
    "values = []\n",
    "\n",
    "# 각 줄마다 반복\n",
    "for line in content:\n",
    "    # 첫 번째 \" \" (공백) 문자를 기준으로 키와 값을 분리\n",
    "    key, value = line.split('\\t', 1)\n",
    "\n",
    "    # 키와 값을 각각의 리스트에 추가\n",
    "    keys.append(key)\n",
    "    values.append(value)"
   ]
  },
  {
   "cell_type": "code",
   "execution_count": 40,
   "id": "884e431f",
   "metadata": {},
   "outputs": [
    {
     "name": "stdout",
     "output_type": "stream",
     "text": [
      "DH EYJH AH M POW V ERDH AHF EH N S\n",
      "DH AHS AH NJH EH N T L IYW AO R M DDH AHS AA F TG R IY NG R AE SIH NDH AHP IY S F AH LM EH D OW\n"
     ]
    }
   ],
   "source": [
    "import re \n",
    "answer1 = \"\"\n",
    "\n",
    "for text in word_list1:\n",
    "    ans = values[keys.index(text.upper())]\n",
    "    if(ans != None):\n",
    "        answer1 += ans\n",
    "    \n",
    "answer2 = \"\"\n",
    "for text in word_list2:\n",
    "    normalized_text = re.sub(r'\\W+', '', text.upper()) # 특수문자 무시\n",
    "    ans = values[keys.index(normalized_text.upper())]\n",
    "    if(ans != None):\n",
    "        answer2 += ans\n",
    "\n",
    "print(answer1)\n",
    "print(answer2)"
   ]
  },
  {
   "cell_type": "code",
   "execution_count": null,
   "id": "3575e2f4",
   "metadata": {},
   "outputs": [],
   "source": [
    "f = open(\"cmubet.txt\", \"r\")\n",
    "data = f.read()\n",
    "data = data.replace(\"\\n\", \"\\t\")\n",
    "data = data.split(\"\\t\")\n",
    "i = 0\n",
    "dic = {}\n",
    "dic_word = []\n",
    "dic_pron = []\n",
    "while"
   ]
  }
 ],
 "metadata": {
  "kernelspec": {
   "display_name": "Python 3 (ipykernel)",
   "language": "python",
   "name": "python3"
  },
  "language_info": {
   "codemirror_mode": {
    "name": "ipython",
    "version": 3
   },
   "file_extension": ".py",
   "mimetype": "text/x-python",
   "name": "python",
   "nbconvert_exporter": "python",
   "pygments_lexer": "ipython3",
   "version": "3.10.9"
  }
 },
 "nbformat": 4,
 "nbformat_minor": 5
}
