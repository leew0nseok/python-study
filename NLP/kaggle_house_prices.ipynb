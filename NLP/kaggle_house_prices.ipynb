{
 "cells": [
  {
   "cell_type": "code",
   "execution_count": null,
   "metadata": {},
   "outputs": [],
   "source": [
    "# This Python 3 environment comes with many helpful analytics libraries installed\n",
    "# It is defined by the kaggle/python Docker image: https://github.com/kaggle/docker-python\n",
    "# For example, here's several helpful packages to load\n",
    "\n",
    "import numpy as np # linear algebra\n",
    "import pandas as pd # data processing, CSV file I/O (e.g. pd.read_csv)\n",
    "\n",
    "# Input data files are available in the read-only \"../input/\" directory\n",
    "# For example, running this (by clicking run or pressing Shift+Enter) will list all files under the input directory\n",
    "\n",
    "import os\n",
    "for dirname, _, filenames in os.walk('/kaggle/input'):\n",
    "    for filename in filenames:\n",
    "        print(os.path.join(dirname, filename))\n",
    "\n",
    "# You can write up to 20GB to the current directory (/kaggle/working/) that gets preserved as output when you create a version using \"Save & Run All\" \n",
    "# You can also write temporary files to /kaggle/temp/, but they won't be saved outside of the current session"
   ]
  },
  {
   "cell_type": "code",
   "execution_count": null,
   "metadata": {},
   "outputs": [],
   "source": [
    "train = pd.read_csv('/kaggle/input/house-prices-advanced-regression-techniques/train.csv')"
   ]
  },
  {
   "cell_type": "code",
   "execution_count": null,
   "metadata": {},
   "outputs": [],
   "source": [
    "train.head"
   ]
  },
  {
   "cell_type": "code",
   "execution_count": null,
   "metadata": {},
   "outputs": [],
   "source": [
    "## Nan 갯수 확인하기\n",
    "na = train.isnull().sum()\n",
    "na = na[na>0]\n",
    "\n",
    "na"
   ]
  },
  {
   "cell_type": "code",
   "execution_count": null,
   "metadata": {},
   "outputs": [],
   "source": [
    "# 결측치가 많은 열은 무의미한 결과를 야기할것 같아 열 삭제\n",
    "train = train.drop('Alley', axis=1)\n",
    "train = train.drop('FireplaceQu', axis=1)\n",
    "train = train.drop('PoolQC', axis=1)\n",
    "train = train.drop('Fence', axis=1)\n",
    "train = train.drop('MiscFeature', axis=1)"
   ]
  },
  {
   "cell_type": "code",
   "execution_count": null,
   "metadata": {},
   "outputs": [],
   "source": [
    "# 결측치 처리 코드\n",
    "# NA -> 0으로 대체\n",
    "for col in [\"GarageType\", \"GarageYrBlt\", \"GarageFinish\", \"GarageQual\", \"GarageCond\",\n",
    "           \"MasVnrType\", \"MasVnrArea\"]:\n",
    "    train[col] = train[col].fillna(0)\n",
    "    \n",
    "# 지하실 크기가 0이거나 NA 인 값은 해당 지하실 관련 행 -> 0으로 대체\n",
    "for i in range(train.shape[0]):\n",
    "    if train.at[i, \"BsmtUnfSF\"] == 0 or pd.isnull(train.at[i, \"BsmtUnfSF\"]):\n",
    "        for col in [\"BsmtQual\", \"BsmtCond\", \"BsmtExposure\", \"BsmtFinType1\", \"BsmtFinSF1\", \"BsmtFinType2\", \"BsmtFinSF2\", \"BsmtUnfSF\"]:\n",
    "            train[col] = 0 \n",
    "\n",
    "# NA -> 최빈값으로 대체 \n",
    "train[\"Electrical\"] = train[\"Electrical\"].fillna(train[\"Electrical\"].mode()[0])\n",
    "\n",
    "# NA -> mean값으로 대체\n",
    "train['LotFrontage'].fillna(train['LotFrontage'].mean(), inplace=True)\n"
   ]
  }
 ],
 "metadata": {
  "language_info": {
   "name": "python"
  },
  "orig_nbformat": 4
 },
 "nbformat": 4,
 "nbformat_minor": 2
}
