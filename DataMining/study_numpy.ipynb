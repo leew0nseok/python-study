{
 "cells": [
  {
   "cell_type": "code",
   "execution_count": 12,
   "metadata": {},
   "outputs": [
    {
     "name": "stdout",
     "output_type": "stream",
     "text": [
      "[1 2 3 4 5]\n",
      "[[1 2 3]\n",
      " [4 5 6]\n",
      " [7 8 9]]\n"
     ]
    }
   ],
   "source": [
    "import numpy as np\n",
    "\n",
    "a1 = np.array([1, 2, 3, 4, 5])\n",
    "a2 = np.array([[1, 2, 3], [4, 5, 6], [7, 8, 9]])\n",
    "\n",
    "print(a1)\n",
    "print(a2)"
   ]
  },
  {
   "attachments": {},
   "cell_type": "markdown",
   "metadata": {},
   "source": [
    "# 불리언 인덱싱"
   ]
  },
  {
   "cell_type": "code",
   "execution_count": 4,
   "metadata": {},
   "outputs": [
    {
     "name": "stdout",
     "output_type": "stream",
     "text": [
      "[9 4 3 4 4]\n",
      "[4 3 4]\n",
      "[9 3 4]\n"
     ]
    }
   ],
   "source": [
    "# 불리언 인덱싱\n",
    "# True인 인덱스위치만 출력\n",
    "print(a1)\n",
    "bi = [False, True, True, False, True]\n",
    "print(a1[bi])\n",
    "bi = [True, False, True, True, False]\n",
    "print(a1[bi])"
   ]
  },
  {
   "cell_type": "code",
   "execution_count": 7,
   "metadata": {},
   "outputs": [
    {
     "name": "stdout",
     "output_type": "stream",
     "text": [
      "[[1 0 1]\n",
      " [4 2 0]\n",
      " [7 8 9]]\n",
      "[[False False False]\n",
      " [False  True False]\n",
      " [False  True False]]\n",
      "[2 8]\n"
     ]
    }
   ],
   "source": [
    "print(a2)\n",
    "bi = np.random.randint(0, 2, (3, 3), dtype=bool)\n",
    "print(bi)\n",
    "print(a2[bi])"
   ]
  },
  {
   "attachments": {},
   "cell_type": "markdown",
   "metadata": {},
   "source": [
    "# 펜시 인덱싱"
   ]
  },
  {
   "cell_type": "code",
   "execution_count": 10,
   "metadata": {},
   "outputs": [
    {
     "name": "stdout",
     "output_type": "stream",
     "text": [
      "[9 4 3 4 4]\n",
      "[9, 3]\n",
      "[9 3]\n",
      "[[9 4]\n",
      " [3 9]]\n"
     ]
    }
   ],
   "source": [
    "# 펜시 인덱싱\n",
    "print(a1)\n",
    "print([a1[0], a1[2]])\n",
    "ind = [0, 2]\n",
    "print(a1[ind])\n",
    "ind = np.array([[0, 1,],\n",
    "               [2, 0]])\n",
    "print(a1[ind])"
   ]
  },
  {
   "cell_type": "code",
   "execution_count": 14,
   "metadata": {},
   "outputs": [
    {
     "name": "stdout",
     "output_type": "stream",
     "text": [
      "[[1 2 3]\n",
      " [4 5 6]\n",
      " [7 8 9]]\n",
      "[2 9]\n",
      "[[1 2 3]\n",
      " [7 8 9]]\n",
      "[[2 3]\n",
      " [5 6]\n",
      " [8 9]]\n",
      "[2 8]\n",
      "[[8 9]]\n",
      "[[2 3]\n",
      " [8 9]]\n",
      "[[5 6]\n",
      " [8 9]]\n"
     ]
    }
   ],
   "source": [
    "print(a2)\n",
    "row = np.array([0, 2])\n",
    "col = np.array([1, 2])\n",
    "print(a2[row, col])\n",
    "print(a2[row, :])\n",
    "print(a2[:, col])\n",
    "print(a2[row,1])\n",
    "print(a2[2:,col])\n",
    "print(a2[row, 1:])\n",
    "print(a2[1:,col])"
   ]
  },
  {
   "attachments": {},
   "cell_type": "markdown",
   "metadata": {},
   "source": [
    "# 배열 값 삽입\n",
    "insert()\n",
    "\n",
    "axis를 지정하지 않으면 1차원 배열로 변환\n",
    "\n",
    "원본 배열 변경x"
   ]
  },
  {
   "cell_type": "code",
   "execution_count": 20,
   "metadata": {},
   "outputs": [
    {
     "name": "stdout",
     "output_type": "stream",
     "text": [
      "[1 2 3 4 5]\n",
      "[10  1  2  3  4  5]\n",
      "[ 1  2 10  3  4  5]\n"
     ]
    }
   ],
   "source": [
    "print(a1)\n",
    "b1 = np.insert(a1, 0, 10)\n",
    "print(b1)\n",
    "c1 = np.insert(a1, 2, 10)\n",
    "print(c1)"
   ]
  },
  {
   "cell_type": "code",
   "execution_count": 22,
   "metadata": {},
   "outputs": [
    {
     "name": "stdout",
     "output_type": "stream",
     "text": [
      "[[1 2 3]\n",
      " [4 5 6]\n",
      " [7 8 9]]\n",
      "[[ 1  2  3]\n",
      " [10 10 10]\n",
      " [ 4  5  6]\n",
      " [ 7  8  9]]\n",
      "[[ 1 10  2  3]\n",
      " [ 4 10  5  6]\n",
      " [ 7 10  8  9]]\n"
     ]
    }
   ],
   "source": [
    "print(a2)\n",
    "b2 = np.insert(a2, 1, 10, axis=0) # axis = 0은 행\n",
    "print(b2)\n",
    "c2 = np.insert(a2, 1, 10, axis=1) # axis = 1은 열\n",
    "print(c2)"
   ]
  },
  {
   "attachments": {},
   "cell_type": "markdown",
   "metadata": {},
   "source": [
    "# 배열 값 수정\n"
   ]
  },
  {
   "cell_type": "code",
   "execution_count": 27,
   "metadata": {},
   "outputs": [
    {
     "name": "stdout",
     "output_type": "stream",
     "text": [
      "[9 4 1 4 4]\n",
      "[3 2 1 4 4]\n",
      "[9 2 1 4 4]\n",
      "[9 0 1 0 0]\n",
      "[9 4 1 4 4]\n"
     ]
    }
   ],
   "source": [
    "print(a1)\n",
    "a1[0] = 3\n",
    "a1[1] = 2\n",
    "a1[2] = 1\n",
    "print(a1)\n",
    "a1[:1] = 9\n",
    "print(a1)\n",
    "i = np.array([1, 3, 4]) # 1, 3, 4번째 인덱스\n",
    "a1[i] = 0 # 1, 3, 4번째 인덱스의 값이 0 으로 초기화\n",
    "print(a1)\n",
    "a1[i] += 4 # 1, 3, 4번째 값에 +4\n",
    "print(a1)"
   ]
  },
  {
   "cell_type": "code",
   "execution_count": 30,
   "metadata": {},
   "outputs": [
    {
     "name": "stdout",
     "output_type": "stream",
     "text": [
      "[[1 9 1]\n",
      " [4 2 9]\n",
      " [7 8 9]]\n",
      "[[1 1 1]\n",
      " [4 2 9]\n",
      " [7 8 3]]\n",
      "[[1 1 1]\n",
      " [4 2 9]\n",
      " [7 8 9]]\n",
      "[[1 0 1]\n",
      " [4 2 0]\n",
      " [7 8 9]]\n"
     ]
    }
   ],
   "source": [
    "print(a2)\n",
    "a2[0, 0] = 1\n",
    "a2[1, 1] = 2\n",
    "a2[2, 2] = 3\n",
    "a2[0] = 1\n",
    "print(a2)\n",
    "a2[1:, 2] = 9\n",
    "print(a2)\n",
    "row = np.array([0, 1])\n",
    "col = np.array([1, 2])\n",
    "a2[row, col] = 0\n",
    "print(a2)"
   ]
  },
  {
   "attachments": {},
   "cell_type": "markdown",
   "metadata": {},
   "source": [
    "# 배열 값 삭제\n",
    "\n",
    "delete()사용\n",
    "\n",
    "axis를 지정하지 않으면 1차원 배열로 변환\n",
    "\n",
    "삭제할 방향 axis로 지정\n",
    "\n",
    "원본 배열 변경x"
   ]
  },
  {
   "cell_type": "code",
   "execution_count": 32,
   "metadata": {},
   "outputs": [
    {
     "name": "stdout",
     "output_type": "stream",
     "text": [
      "[9 4 1 4 4]\n",
      "[9 1 4 4]\n",
      "[9 4 1 4 4]\n"
     ]
    }
   ],
   "source": [
    "print(a1)\n",
    "b1 = np.delete(a1, 1)\n",
    "print(b1)\n",
    "print(a1)"
   ]
  },
  {
   "cell_type": "code",
   "execution_count": 34,
   "metadata": {},
   "outputs": [
    {
     "name": "stdout",
     "output_type": "stream",
     "text": [
      "[[1 0 1]\n",
      " [4 2 0]\n",
      " [7 8 9]]\n",
      "[[1 0 1]\n",
      " [7 8 9]]\n",
      "[[1 1]\n",
      " [4 0]\n",
      " [7 9]]\n"
     ]
    }
   ],
   "source": [
    "print(a2)\n",
    "b2 = np.delete(a2, 1, axis=0)\n",
    "print(b2)\n",
    "c2 = np.delete(a2, 1, axis=1)\n",
    "print(c2)"
   ]
  },
  {
   "attachments": {},
   "cell_type": "markdown",
   "metadata": {},
   "source": [
    "# 배열 복사\n",
    "\n",
    "리스트와 달리 배열의 슬라이스는 복사본이 아님.\n",
    "\n",
    "copy()는 배열이나 하위 배열 내의 값을 명시적으로 복사"
   ]
  },
  {
   "cell_type": "code",
   "execution_count": 36,
   "metadata": {},
   "outputs": [
    {
     "name": "stdout",
     "output_type": "stream",
     "text": [
      "[[1 0 1]\n",
      " [4 2 0]\n",
      " [7 8 9]]\n",
      "[[1 0]\n",
      " [4 2]]\n",
      "[[1 0]\n",
      " [4 2]]\n",
      "[[1 0]\n",
      " [4 0]]\n",
      "[[1 0 1]\n",
      " [4 0 0]\n",
      " [7 8 9]]\n"
     ]
    }
   ],
   "source": [
    "print(a2)\n",
    "print(a2[:2, :2])\n",
    "a2_sub = a2[:2, :2]\n",
    "print(a2_sub)\n",
    "a2_sub[:, 1] = 0\n",
    "print(a2_sub)\n",
    "print(a2)\n",
    "# a2 원본 배열의 값도 바뀜"
   ]
  },
  {
   "cell_type": "code",
   "execution_count": 37,
   "metadata": {},
   "outputs": [
    {
     "name": "stdout",
     "output_type": "stream",
     "text": [
      "[[1 0 1]\n",
      " [4 0 0]\n",
      " [7 8 9]]\n",
      "[[1 0]\n",
      " [4 0]]\n",
      "[[10  0]\n",
      " [ 4  0]]\n",
      "[[1 0 1]\n",
      " [4 0 0]\n",
      " [7 8 9]]\n"
     ]
    }
   ],
   "source": [
    "# copy() 사용\n",
    "print(a2)\n",
    "a2_sub_copy = a2[:2, :2].copy()\n",
    "print(a2_sub_copy)\n",
    "a2_sub_copy[0, 0] = 10\n",
    "print(a2_sub_copy)\n",
    "print(a2)"
   ]
  }
 ],
 "metadata": {
  "kernelspec": {
   "display_name": "Python 3",
   "language": "python",
   "name": "python3"
  },
  "language_info": {
   "codemirror_mode": {
    "name": "ipython",
    "version": 3
   },
   "file_extension": ".py",
   "mimetype": "text/x-python",
   "name": "python",
   "nbconvert_exporter": "python",
   "pygments_lexer": "ipython3",
   "version": "3.11.2"
  },
  "orig_nbformat": 4
 },
 "nbformat": 4,
 "nbformat_minor": 2
}
