{
 "cells": [
  {
   "cell_type": "code",
   "execution_count": 2,
   "metadata": {},
   "outputs": [],
   "source": [
    "import numpy as np"
   ]
  },
  {
   "cell_type": "code",
   "execution_count": 4,
   "metadata": {},
   "outputs": [
    {
     "name": "stdout",
     "output_type": "stream",
     "text": [
      "[1. 2. 3. 4. 5.]\n",
      "#Dimensions = 1\n",
      "Dimension = (5,)\n",
      "Size = 5\n",
      "Array type = float64\n"
     ]
    }
   ],
   "source": [
    "oneDim = np.array([1.0, 2, 3, 4, 5])\n",
    "print(oneDim)\n",
    "print(\"#Dimensions =\", oneDim.ndim)\n",
    "print(\"Dimension =\", oneDim.shape)\n",
    "print(\"Size =\", oneDim.size)\n",
    "print(\"Array type =\", oneDim.dtype)"
   ]
  },
  {
   "cell_type": "code",
   "execution_count": 5,
   "metadata": {},
   "outputs": [
    {
     "name": "stdout",
     "output_type": "stream",
     "text": [
      "#Dimensions = 2\n",
      "Dimension = (4, 2)\n",
      "Size = 8\n",
      "Array type = int64\n"
     ]
    }
   ],
   "source": [
    "twoDim = np.array([[1,2],[3,4],[5,6],[7,8]]) # a two-dimensional array (matrix) print(twoDim)\n",
    "print(\"#Dimensions =\", twoDim.ndim)\n",
    "print(\"Dimension =\", twoDim.shape)\n",
    "print(\"Size =\", twoDim.size)\n",
    "print(\"Array type =\", twoDim.dtype)"
   ]
  },
  {
   "cell_type": "code",
   "execution_count": 6,
   "metadata": {},
   "outputs": [
    {
     "name": "stdout",
     "output_type": "stream",
     "text": [
      "#Dimensions = 2\n",
      "Dimension = (2, 3)\n",
      "Size = 6\n",
      "Array type = <U32\n"
     ]
    }
   ],
   "source": [
    "arrFromTuple = np.array([(1,'a',3.0),(2,'b',3.5)]) # create ndarray from tuple print(arrFromTuple)\n",
    "print(\"#Dimensions =\", arrFromTuple.ndim)\n",
    "print(\"Dimension =\", arrFromTuple.shape)\n",
    "print(\"Size =\", arrFromTuple.size)\n",
    "print(\"Array type =\", arrFromTuple.dtype)"
   ]
  },
  {
   "cell_type": "code",
   "execution_count": 7,
   "metadata": {},
   "outputs": [
    {
     "name": "stdout",
     "output_type": "stream",
     "text": [
      "(1,)\n",
      "(2,)\n",
      "(2, 1)\n",
      "(1, 2, 3)\n",
      "(1, 1, 1, 0)\n"
     ]
    }
   ],
   "source": [
    "print(np.array([1]).shape)\n",
    "print(np.array([1,2]).shape)\n",
    "print(np.array([[1],[2]]).shape)\n",
    "print(np.array([[[1,2,3],[1,2,3]]]).shape)\n",
    "print(np.array([[[[]]]]).shape)"
   ]
  },
  {
   "cell_type": "code",
   "execution_count": 9,
   "metadata": {},
   "outputs": [
    {
     "name": "stdout",
     "output_type": "stream",
     "text": [
      "[-10  -8  -6  -4  -2   0   2   4   6   8]\n",
      "[[ 0  1  2  3]\n",
      " [ 4  5  6  7]\n",
      " [ 8  9 10 11]]\n",
      "(3, 4)\n",
      "[0.         0.11111111 0.22222222 0.33333333 0.44444444 0.55555556\n",
      " 0.66666667 0.77777778 0.88888889 1.        ]\n",
      "[1.e-03 1.e-02 1.e-01 1.e+00 1.e+01 1.e+02 1.e+03]\n"
     ]
    }
   ],
   "source": [
    "print(np.arange(-10, 10,2))\n",
    "print(np.arange(12).reshape(3,4))\n",
    "print(np.arange(12).reshape(3,4).shape)\n",
    "print(np.linspace(0, 1, 10))\n",
    "print(np.logspace(-3,3,7))"
   ]
  },
  {
   "cell_type": "code",
   "execution_count": 10,
   "metadata": {},
   "outputs": [
    {
     "name": "stdout",
     "output_type": "stream",
     "text": [
      "[[1. 0. 0. 0. 0.]\n",
      " [0. 1. 0. 0. 0.]\n",
      " [0. 0. 1. 0. 0.]\n",
      " [0. 0. 0. 1. 0.]\n",
      " [0. 0. 0. 0. 1.]]\n"
     ]
    }
   ],
   "source": [
    "print(np.eye(5))"
   ]
  },
  {
   "cell_type": "code",
   "execution_count": 12,
   "metadata": {},
   "outputs": [
    {
     "name": "stdout",
     "output_type": "stream",
     "text": [
      "[[ 3  5  7  9 11]\n",
      " [ 4  6  8 10 12]\n",
      " [ 5  7  9 11 13]]\n"
     ]
    }
   ],
   "source": [
    "x = np.array([2, 4, 6, 8, 10])\n",
    "y = np.array([[1], [2], [3]])\n",
    "print(x+y)"
   ]
  },
  {
   "cell_type": "code",
   "execution_count": 17,
   "metadata": {},
   "outputs": [
    {
     "name": "stdout",
     "output_type": "stream",
     "text": [
      "[-5 -4 -3 -2 -1  0  1  2  3  4]\n",
      "[-2 -1]\n",
      "[   -5    -4    -3 10000 10000     0     1     2     3     4]\n",
      "[10000 10000]\n",
      "[10000 10000]\n",
      "[2000 2000]\n",
      "[   -5    -4    -3 10000 10000     0     1     2     3     4]\n"
     ]
    }
   ],
   "source": [
    "x = np.arange(-5, 5)\n",
    "print(x)\n",
    "\n",
    "y = x[3:5]\n",
    "print(y)\n",
    "y[:] = 10000\n",
    "print(x)\n",
    "print(y)\n",
    "z = x[3:5].copy()\n",
    "print(z)\n",
    "z[:] = 2000\n",
    "print(z)\n",
    "print(x)"
   ]
  },
  {
   "cell_type": "code",
   "execution_count": 23,
   "metadata": {},
   "outputs": [
    {
     "name": "stdout",
     "output_type": "stream",
     "text": [
      "[9, 10, 11, 12]\n",
      "[9, 10, 11, 12]\n",
      "[[ 1  2  3  4]\n",
      " [ 5  6  7  8]\n",
      " [ 9 10 11 12]]\n",
      "[ 9 10 11 12]\n",
      "[5 6]\n",
      "[ 3  7 11]\n",
      "[ 4  8 12]\n",
      "[[3 4]\n",
      " [7 8]]\n",
      "[[ 3  4]\n",
      " [11 12]]\n"
     ]
    }
   ],
   "source": [
    "my2dlist = [[1,2,3,4],[5,6,7,8],[9,10,11,12]] # a 2-dim list print(my2dlist)\n",
    "print(my2dlist[2]) \n",
    "print(my2dlist[:][2]) \n",
    "\n",
    "my2darr = np.array(my2dlist) \n",
    "print(my2darr)\n",
    "# print(my2darr[2][:])\n",
    "print(my2darr[2,:])\n",
    "print(my2darr[1,:2])\n",
    "# print(my2darr[:][2])\n",
    "print(my2darr[:,2])\n",
    "print(my2darr[:,-1])\n",
    "print(my2darr[:2,2:])\n",
    "print(my2darr[::2,2:])"
   ]
  },
  {
   "cell_type": "code",
   "execution_count": 24,
   "metadata": {},
   "outputs": [
    {
     "name": "stdout",
     "output_type": "stream",
     "text": [
      "[[ 1  2  3  4]\n",
      " [ 5  6  7  8]\n",
      " [ 9 10 11 12]]\n",
      "\n",
      "[[ 3  4]\n",
      " [11 12]]\n",
      "<class 'numpy.ndarray'>\n",
      "\n",
      "[[   1    2 1000 1000]\n",
      " [   5    6    7    8]\n",
      " [   9   10 1000 1000]]\n",
      "\n",
      "[[   1    2 2000 1000]\n",
      " [   5    6    7    8]\n",
      " [   9   10 1000 1000]]\n"
     ]
    }
   ],
   "source": [
    "my2darr = np.array([[1,2,3,4],[5,6,7,8],[9,10,11,12]]) \n",
    "print(my2darr)\n",
    "# a 2-dim list\n",
    "print()\n",
    "sliced = my2darr[::2,2:] \n",
    "print(sliced) \n",
    "print(type(sliced))\n",
    "print() \n",
    "sliced[:,:] = 1000 \n",
    "print(my2darr)\n",
    "print() \n",
    "sliced[0,0] = 2000 \n",
    "print(my2darr)"
   ]
  },
  {
   "cell_type": "code",
   "execution_count": 25,
   "metadata": {},
   "outputs": [
    {
     "name": "stdout",
     "output_type": "stream",
     "text": [
      "[2 3]\n",
      "2\n",
      "\n",
      "[1 3]\n",
      "\n",
      "[3 2]\n",
      "[3 2 2 2 1]\n",
      "\n",
      "[0 0 0]\n"
     ]
    }
   ],
   "source": [
    "# slicing vs masking vs integer array indexing\n",
    "x = np.array([1,2,3]) \n",
    "print(x[1:]) \n",
    "print(x[1:][0])\n",
    "print()\n",
    "print(x[[True, False, True]])\n",
    "print()\n",
    "print(x[[2,1]])\n",
    "print(x[[2,1,1,1,0]])\n",
    "print() \n",
    "x[[2,1,1,1,0]] = 0 \n",
    "print(x)"
   ]
  },
  {
   "cell_type": "code",
   "execution_count": 27,
   "metadata": {},
   "outputs": [
    {
     "name": "stdout",
     "output_type": "stream",
     "text": [
      "[[ 0  1  2  3  4  5  6]\n",
      " [ 7  8  9 10 11 12 13]\n",
      " [14 15 16 17 18 19 20]\n",
      " [21 22 23 24 25 26 27]\n",
      " [28 29 30 31 32 33 34]]\n",
      "[[False False False False False False False]\n",
      " [False False False False False False False]\n",
      " [False False False False False False False]\n",
      " [ True  True  True  True  True  True  True]\n",
      " [ True  True  True  True  True  True  True]]\n",
      "\n",
      "[21 22 23 24 25 26 27 28 29 30 31 32 33 34]\n",
      "\n",
      "[1000 1000 1000   24   25   26   27   28   29   30   31   32   33   34]\n",
      "[[ 0  1  2  3  4  5  6]\n",
      " [ 7  8  9 10 11 12 13]\n",
      " [14 15 16 17 18 19 20]\n",
      " [21 22 23 24 25 26 27]\n",
      " [28 29 30 31 32 33 34]]\n"
     ]
    }
   ],
   "source": [
    "y = np.arange(35).reshape(5,7) \n",
    "print(y)\n",
    "b = y > 20\n",
    "print(b)\n",
    "print() \n",
    "t = y[b] \n",
    "print(t)\n",
    "# Filtering result is always one-dimensional; it's a copy; not indexing\n",
    "print() \n",
    "t[:3] = 1000 \n",
    "print(t) \n",
    "print(y)"
   ]
  },
  {
   "cell_type": "code",
   "execution_count": 33,
   "metadata": {},
   "outputs": [
    {
     "data": {
      "text/plain": [
       "array([[ 0,  1,  2,  3,  4,  5,  6],\n",
       "       [ 7,  8,  9, 10, 11, 12, 13],\n",
       "       [14, 15, 16, 17, 18, 19, 20],\n",
       "       [21, 22, 23, 24, 25, 26, 27],\n",
       "       [28, 29, 30, 31, 32, 33, 34]])"
      ]
     },
     "execution_count": 33,
     "metadata": {},
     "output_type": "execute_result"
    }
   ],
   "source": [
    "M = np.arange(35).reshape(5,7)\n",
    "M"
   ]
  },
  {
   "cell_type": "code",
   "execution_count": 30,
   "metadata": {},
   "outputs": [
    {
     "data": {
      "text/plain": [
       "array([[ 0,  1,  0,  3,  0,  5,  0],\n",
       "       [ 7,  0,  9,  0, 11,  0, 13],\n",
       "       [ 0, 15,  0, 17,  0, 19,  0],\n",
       "       [21,  0, 23,  0, 25,  0, 27],\n",
       "       [ 0, 29,  0, 31,  0, 33,  0]])"
      ]
     },
     "execution_count": 30,
     "metadata": {},
     "output_type": "execute_result"
    }
   ],
   "source": [
    "M[M%2 == 0] = 0\n",
    "M"
   ]
  },
  {
   "cell_type": "code",
   "execution_count": 32,
   "metadata": {},
   "outputs": [
    {
     "data": {
      "text/plain": [
       "array([[  0,   1,  -2,   3,  -4,   5,  -6],\n",
       "       [  7,  -8,   9, -10,  11, -12,  13],\n",
       "       [-14,  15, -16,  17, -18,  19, -20],\n",
       "       [ 21, -22,  23, -24,  25, -26,  27],\n",
       "       [-28,  29, -30,  31, -32,  33, -34]])"
      ]
     },
     "execution_count": 32,
     "metadata": {},
     "output_type": "execute_result"
    }
   ],
   "source": [
    "M = np.arange(35).reshape(5,7)\n",
    "M[M%2 == 0] = -M[M%2 == 0]\n",
    "M"
   ]
  },
  {
   "cell_type": "code",
   "execution_count": 35,
   "metadata": {},
   "outputs": [
    {
     "data": {
      "text/plain": [
       "array([[  0,  -1,   2,  -3,   4,  -5,   6],\n",
       "       [ -7,   8,  -9,  10, -11,  12, -13],\n",
       "       [ 14, -15,  16, -17,  18, -19,  20],\n",
       "       [-21,  22, -23,  24, -25,  26, -27],\n",
       "       [ 28, -29,  30, -31,  32, -33,  34]])"
      ]
     },
     "execution_count": 35,
     "metadata": {},
     "output_type": "execute_result"
    }
   ],
   "source": [
    "np.where(M % 2 == 0, M, -M)"
   ]
  },
  {
   "cell_type": "code",
   "execution_count": 36,
   "metadata": {},
   "outputs": [
    {
     "data": {
      "text/plain": [
       "array([[ 0,  0,  2,  0,  4,  0,  6],\n",
       "       [ 0,  8,  0, 10,  0, 12,  0],\n",
       "       [14,  0, 16,  0, 18,  0, 20],\n",
       "       [ 0, 22,  0, 24,  0, 26,  0],\n",
       "       [28,  0, 30,  0, 32,  0, 34]])"
      ]
     },
     "execution_count": 36,
     "metadata": {},
     "output_type": "execute_result"
    }
   ],
   "source": [
    "np.where(M % 2 == 0, M, 0)"
   ]
  },
  {
   "cell_type": "code",
   "execution_count": 41,
   "metadata": {},
   "outputs": [
    {
     "name": "stdout",
     "output_type": "stream",
     "text": [
      "[[ 1  2  3]\n",
      " [ 4  5  6]\n",
      " [ 7  8  9]\n",
      " [10 11 12]]\n",
      "[[ 7  8]\n",
      " [ 4  5]\n",
      " [ 1  2]\n",
      " [10 11]]\n",
      "[ 1  3  4  8 12]\n"
     ]
    }
   ],
   "source": [
    "my2darr = np.arange(1, 13, 1).reshape(4,3)\n",
    "print(my2darr)\n",
    "\n",
    "indices = [2, 1, 0, 3]\n",
    "print(my2darr[indices,:2])\n",
    "\n",
    "rowIndex = [0,0,1,2,3] # row index into my2darr \n",
    "columnIndex = [0,2,0,1,2] # column index into my2darr \n",
    "print(my2darr[rowIndex,columnIndex]) # element-wise"
   ]
  },
  {
   "cell_type": "code",
   "execution_count": 42,
   "metadata": {},
   "outputs": [
    {
     "name": "stdout",
     "output_type": "stream",
     "text": [
      "[[ 0  1  2  3  4]\n",
      " [ 5  6  7  8  9]\n",
      " [10 11 12 13 14]\n",
      " [15 16 17 18 19]\n",
      " [20 21 22 23 24]]\n",
      "[ 1  3  5  7  9 11 13 15 17 19 21 23]\n",
      "[[4 0]\n",
      " [4 1]\n",
      " [4 2]\n",
      " [4 3]\n",
      " [4 4]]\n",
      "[[ 0  1  0  3  0]\n",
      " [ 5  0  7  0  9]\n",
      " [ 0 11  0 13  0]\n",
      " [15  0 17  0 19]\n",
      " [ 0 21  0 23  0]]\n"
     ]
    }
   ],
   "source": [
    "M = np.arange(25).reshape(5,5) \n",
    "print(M)\n",
    "print(M[M%2==1]) \n",
    "print(np.argwhere(M >= 20)) \n",
    "print(np.where(M % 2 == 1, M, 0))"
   ]
  },
  {
   "cell_type": "code",
   "execution_count": 44,
   "metadata": {},
   "outputs": [
    {
     "name": "stdout",
     "output_type": "stream",
     "text": [
      "(3,)\n",
      "(3, 1)\n",
      "(1, 3)\n",
      "[[1]\n",
      " [2]\n",
      " [3]]\n",
      "[[1 2 3]]\n"
     ]
    }
   ],
   "source": [
    "t = np.array([1, 2, 3])\n",
    "print(t.shape)\n",
    "x = t[:, np.newaxis]\n",
    "print(x.shape)\n",
    "y = t[np.newaxis,:]\n",
    "print(y.shape)\n",
    "print(x)\n",
    "print(y)"
   ]
  },
  {
   "cell_type": "code",
   "execution_count": 48,
   "metadata": {},
   "outputs": [
    {
     "name": "stdout",
     "output_type": "stream",
     "text": [
      "(2, 3)\n",
      "(2, 3, 1)\n",
      "[[[1]\n",
      "  [2]\n",
      "  [3]]\n",
      "\n",
      " [[4]\n",
      "  [5]\n",
      "  [6]]]\n",
      "\n",
      "(1, 2, 3)\n",
      "[[[1 2 3]\n",
      "  [4 5 6]]]\n",
      "\n",
      "(2, 1, 3)\n",
      "[[[1 2 3]]\n",
      "\n",
      " [[4 5 6]]]\n"
     ]
    }
   ],
   "source": [
    "t = np.array([[1, 2, 3], [4, 5, 6]])\n",
    "print(t.shape)\n",
    "print(t[:,:,np.newaxis].shape)\n",
    "print(t[:,:,np.newaxis])\n",
    "print()\n",
    "\n",
    "print(t[np.newaxis,:, :].shape)\n",
    "print(t[np.newaxis,:, :])\n",
    "print()\n",
    "\n",
    "print(t[:, np.newaxis, :].shape)\n",
    "print(t[:, np.newaxis, :])"
   ]
  },
  {
   "cell_type": "code",
   "execution_count": 49,
   "metadata": {},
   "outputs": [
    {
     "data": {
      "text/plain": [
       "array([[11, 12],\n",
       "       [13, 14]])"
      ]
     },
     "execution_count": 49,
     "metadata": {},
     "output_type": "execute_result"
    }
   ],
   "source": [
    "np.array([[1,2],[3,4]]) + np.array([[10]])"
   ]
  },
  {
   "cell_type": "code",
   "execution_count": 50,
   "metadata": {},
   "outputs": [
    {
     "name": "stdout",
     "output_type": "stream",
     "text": [
      "(2,) (2, 1)\n"
     ]
    },
    {
     "data": {
      "text/plain": [
       "array([[ 11,  12],\n",
       "       [101, 102]])"
      ]
     },
     "execution_count": 50,
     "metadata": {},
     "output_type": "execute_result"
    }
   ],
   "source": [
    "A = np.array([1, 2])\n",
    "B = np.array([[10],[100]])\n",
    "print(A.shape, B.shape)\n",
    "C = A + B\n",
    "C"
   ]
  },
  {
   "cell_type": "code",
   "execution_count": 53,
   "metadata": {},
   "outputs": [
    {
     "name": "stdout",
     "output_type": "stream",
     "text": [
      "(3, 1)\n",
      "(1, 10)\n",
      "[[1 1 1 1 1 1 1 1 1 1]\n",
      " [1 1 1 1 1 1 1 1 1 1]\n",
      " [1 1 1 1 1 1 1 1 1 1]]\n"
     ]
    }
   ],
   "source": [
    "X = np.array([[1]]*3)\n",
    "Y = np.array([[0]*10])\n",
    "print(X.shape)\n",
    "print(Y.shape)\n",
    "Z = X + Y\n",
    "print(Z)"
   ]
  },
  {
   "cell_type": "code",
   "execution_count": 57,
   "metadata": {},
   "outputs": [
    {
     "name": "stdout",
     "output_type": "stream",
     "text": [
      "[[1]\n",
      " [1]\n",
      " [1]]\n",
      "[[[1]\n",
      "  [1]\n",
      "  [1]]]\n",
      "(1, 3, 1)\n",
      "(1, 10)\n",
      "[[[1 1 1 1 1 1 1 1 1 1]\n",
      "  [1 1 1 1 1 1 1 1 1 1]\n",
      "  [1 1 1 1 1 1 1 1 1 1]]]\n"
     ]
    }
   ],
   "source": [
    "X = np.array([[1]]*3)\n",
    "print(X)\n",
    "X = X[ np.newaxis,:,:]\n",
    "print(X)\n",
    "Y = np.array([[0]*10])\n",
    "print(X.shape)\n",
    "print(Y.shape)\n",
    "Z = X + Y\n",
    "print(Z)"
   ]
  },
  {
   "cell_type": "code",
   "execution_count": 58,
   "metadata": {},
   "outputs": [
    {
     "data": {
      "text/plain": [
       "array([[2, 3, 4],\n",
       "       [3, 4, 5],\n",
       "       [4, 5, 6]])"
      ]
     },
     "execution_count": 58,
     "metadata": {},
     "output_type": "execute_result"
    }
   ],
   "source": [
    "a = np.array([[1],[2],[3]])\n",
    "b= a.T\n",
    "a+b"
   ]
  },
  {
   "cell_type": "code",
   "execution_count": 60,
   "metadata": {},
   "outputs": [
    {
     "name": "stdout",
     "output_type": "stream",
     "text": [
      "[[10 20 30]\n",
      " [10 20 30]]\n",
      "[[5 5 5]\n",
      " [6 6 6]]\n"
     ]
    },
    {
     "data": {
      "text/plain": [
       "array([[15, 25, 35],\n",
       "       [16, 26, 36]])"
      ]
     },
     "execution_count": 60,
     "metadata": {},
     "output_type": "execute_result"
    }
   ],
   "source": [
    "v = np.array([10, 20, 30])\n",
    "w = np.array([5, 6])\n",
    "X, Y = np.meshgrid(v,w)\n",
    "print(X)\n",
    "print(Y)\n",
    "X + Y"
   ]
  },
  {
   "cell_type": "code",
   "execution_count": 73,
   "metadata": {},
   "outputs": [
    {
     "data": {
      "text/plain": [
       "(2, 3)"
      ]
     },
     "execution_count": 73,
     "metadata": {},
     "output_type": "execute_result"
    }
   ],
   "source": [
    "X = np.array([[0,0,0], [1,1,1]])\n",
    "X.shape"
   ]
  },
  {
   "cell_type": "code",
   "execution_count": 74,
   "metadata": {},
   "outputs": [
    {
     "data": {
      "text/plain": [
       "array([1, 1, 1])"
      ]
     },
     "execution_count": 74,
     "metadata": {},
     "output_type": "execute_result"
    }
   ],
   "source": [
    "X.sum(axis=0)"
   ]
  },
  {
   "cell_type": "code",
   "execution_count": 75,
   "metadata": {},
   "outputs": [
    {
     "data": {
      "text/plain": [
       "array([0, 3])"
      ]
     },
     "execution_count": 75,
     "metadata": {},
     "output_type": "execute_result"
    }
   ],
   "source": [
    "X.sum(axis=1)"
   ]
  },
  {
   "cell_type": "code",
   "execution_count": 81,
   "metadata": {},
   "outputs": [
    {
     "name": "stdout",
     "output_type": "stream",
     "text": [
      "[[[ 1  2  3  4]\n",
      "  [ 5  6  7  8]\n",
      "  [ 9 10 11 12]]\n",
      "\n",
      " [[13 14 15 16]\n",
      "  [17 18 19 20]\n",
      "  [21 22 23 24]]]\n"
     ]
    }
   ],
   "source": [
    "X = np.array(range(1, 24+1)).reshape(2,3,4)\n",
    "print(X)"
   ]
  },
  {
   "cell_type": "code",
   "execution_count": 77,
   "metadata": {},
   "outputs": [
    {
     "data": {
      "text/plain": [
       "(2, 3, 4)"
      ]
     },
     "execution_count": 77,
     "metadata": {},
     "output_type": "execute_result"
    }
   ],
   "source": [
    "X.shape"
   ]
  },
  {
   "cell_type": "code",
   "execution_count": 78,
   "metadata": {},
   "outputs": [
    {
     "data": {
      "text/plain": [
       "array([[14, 16, 18, 20],\n",
       "       [22, 24, 26, 28],\n",
       "       [30, 32, 34, 36]])"
      ]
     },
     "execution_count": 78,
     "metadata": {},
     "output_type": "execute_result"
    }
   ],
   "source": [
    "X.sum(axis=0)"
   ]
  },
  {
   "cell_type": "code",
   "execution_count": 79,
   "metadata": {},
   "outputs": [
    {
     "data": {
      "text/plain": [
       "array([[15, 18, 21, 24],\n",
       "       [51, 54, 57, 60]])"
      ]
     },
     "execution_count": 79,
     "metadata": {},
     "output_type": "execute_result"
    }
   ],
   "source": [
    "X.sum(axis=1)"
   ]
  },
  {
   "cell_type": "code",
   "execution_count": 80,
   "metadata": {},
   "outputs": [
    {
     "data": {
      "text/plain": [
       "array([[10, 26, 42],\n",
       "       [58, 74, 90]])"
      ]
     },
     "execution_count": 80,
     "metadata": {},
     "output_type": "execute_result"
    }
   ],
   "source": [
    "X.sum(axis=2)"
   ]
  },
  {
   "cell_type": "code",
   "execution_count": 83,
   "metadata": {},
   "outputs": [
    {
     "data": {
      "text/plain": [
       "array([ 78, 222])"
      ]
     },
     "execution_count": 83,
     "metadata": {},
     "output_type": "execute_result"
    }
   ],
   "source": [
    "X.sum(axis=(1,2))"
   ]
  },
  {
   "cell_type": "code",
   "execution_count": 89,
   "metadata": {},
   "outputs": [
    {
     "name": "stdout",
     "output_type": "stream",
     "text": [
      "300\n",
      "300\n",
      "300\n",
      "300\n"
     ]
    }
   ],
   "source": [
    "print(X.sum(axis=(0,1,2)))\n",
    "print(X.sum(axis=(1,2,0)))\n",
    "print(X.sum(axis=(2,1,0)))\n",
    "print(X.sum(axis=(2,0,1)))"
   ]
  },
  {
   "cell_type": "code",
   "execution_count": 92,
   "metadata": {},
   "outputs": [
    {
     "name": "stdout",
     "output_type": "stream",
     "text": [
      "[[6 5 4]\n",
      " [3 2 1]]\n",
      "\n",
      "[[3 2 1]\n",
      " [6 5 4]]\n",
      "\n",
      "[[4 5 6]\n",
      " [1 2 3]]\n",
      "\n",
      "[1 2 3 4 5 6]\n"
     ]
    }
   ],
   "source": [
    "X = np.array(np.arange(2*3, 0, -1).reshape(2,3))\n",
    "print(X)\n",
    "print()\n",
    "print(np.sort(X, axis = 0))\n",
    "print()\n",
    "print(np.sort(X, axis = -1))\n",
    "print()\n",
    "print(np.sort(X, axis = None))"
   ]
  },
  {
   "cell_type": "code",
   "execution_count": 94,
   "metadata": {},
   "outputs": [
    {
     "name": "stdout",
     "output_type": "stream",
     "text": [
      "[[2 9 4]\n",
      " [5 6 1]]\n",
      "\n",
      "[[2 6 1]\n",
      " [5 9 4]]\n",
      "\n",
      "[[2 4 9]\n",
      " [1 5 6]]\n",
      "\n",
      "[1 2 4 5 6 9]\n"
     ]
    }
   ],
   "source": [
    "X = np.array([[2,9,4],[5,6,1]])\n",
    "print(X)\n",
    "print()\n",
    "print(np.sort(X, axis = 0))\n",
    "print()\n",
    "print(np.sort(X, axis = -1))\n",
    "print()\n",
    "print(np.sort(X, axis = None))"
   ]
  },
  {
   "cell_type": "code",
   "execution_count": 97,
   "metadata": {},
   "outputs": [
    {
     "name": "stdout",
     "output_type": "stream",
     "text": [
      "X = \n",
      " [  4  10   1  20  45 100   2   1]\n",
      "sorted =\n",
      " [  1   1   2   4  10  20  45 100]\n",
      "argsorted =\n",
      " [2 7 6 0 1 3 4 5]\n",
      "partitioned first 3 =\n",
      " [  2   1   1   4  45 100  10  20]\n",
      "argpartitioned first 3 =\n",
      " [6 7 2 0 4 5 1 3]\n",
      "partitioned last 3=\n",
      " [  2   1   1   4  10  20  45 100]\n",
      "argpartitioned last 3=\n",
      " [6 7 2 0 1 3 4 5]\n"
     ]
    }
   ],
   "source": [
    "X = np.array([4,10,1,20,45,100,2,1])\n",
    "print(\"X = \\n\", X)\n",
    "print('sorted =\\n', np.sort(X)) #  [  1   1   2   4  10  20  45 100]\n",
    "print('argsorted =\\n', np.argsort(X))\n",
    "print('partitioned first 3 =\\n', np.partition(X, 3)) \n",
    "print('argpartitioned first 3 =\\n', np.argpartition(X, 3)) \n",
    "print('partitioned last 3=\\n', np.partition(X, -3)) \n",
    "print('argpartitioned last 3=\\n', np.argpartition(X, -3))"
   ]
  },
  {
   "cell_type": "code",
   "execution_count": 99,
   "metadata": {},
   "outputs": [
    {
     "data": {
      "text/plain": [
       "array([[ 0,  1],\n",
       "       [ 2,  2],\n",
       "       [-1, 10]])"
      ]
     },
     "execution_count": 99,
     "metadata": {},
     "output_type": "execute_result"
    }
   ],
   "source": [
    "T = np.array([[2,2],[-1,10],[0,1]])\n",
    "I = np.argsort(np.sum(T,axis=1))\n",
    "T[I,:]"
   ]
  },
  {
   "cell_type": "code",
   "execution_count": 103,
   "metadata": {},
   "outputs": [
    {
     "name": "stdout",
     "output_type": "stream",
     "text": [
      "[100   3   3   4]\n"
     ]
    },
    {
     "data": {
      "text/plain": [
       "[100, 3, 3, 4]"
      ]
     },
     "execution_count": 103,
     "metadata": {},
     "output_type": "execute_result"
    }
   ],
   "source": [
    "u = np.array([100,2,3,4])\n",
    "v = np.array([1,2,3,4])\n",
    "w = np.array([4,3,2,1])\n",
    "print(np.vectorize(max)(u,v,w))\n",
    "list(map(max, u, v, w))\n"
   ]
  },
  {
   "cell_type": "code",
   "execution_count": 105,
   "metadata": {},
   "outputs": [
    {
     "data": {
      "text/plain": [
       "array([4.12310563, 3.60555128, 3.60555128, 4.12310563])"
      ]
     },
     "execution_count": 105,
     "metadata": {},
     "output_type": "execute_result"
    }
   ],
   "source": [
    "dist = np.vectorize(lambda x, y: np.sqrt(x**2 + y **2))\n",
    "dist(v,w)"
   ]
  },
  {
   "cell_type": "code",
   "execution_count": 108,
   "metadata": {},
   "outputs": [
    {
     "name": "stdout",
     "output_type": "stream",
     "text": [
      "[[ 1.34032527 -0.51289807 -1.92645617]\n",
      " [ 0.11894089 -0.32905412 -0.43439012]]\n",
      "[[ 1.34032527  0.11894089]\n",
      " [-0.51289807 -0.32905412]\n",
      " [-1.92645617 -0.43439012]]\n",
      "[ 0.89275112  0.87969148 -0.067534  ]\n",
      "[ 0.87548612 -0.15394539]\n",
      "[ 0.87548612 -0.15394539]\n",
      "[[5.77076964 1.16502423]\n",
      " [1.16502423 0.31111833]]\n",
      "[[ 1.81061875 -0.72658824 -2.63374463]\n",
      " [-0.72658824  0.37134105  1.13101352]\n",
      " [-2.63374463  1.13101352  3.89992817]]\n"
     ]
    }
   ],
   "source": [
    "X = np.random.randn(2,3)\n",
    "print(X)\n",
    "print(X.T)\n",
    "\n",
    "y = np.random.randn(3)\n",
    "print(y)\n",
    "print(X.dot(y))\n",
    "print(np.dot(X,y))\n",
    "print(X.dot(X.T))\n",
    "print(X.T.dot(X))"
   ]
  },
  {
   "cell_type": "code",
   "execution_count": 110,
   "metadata": {},
   "outputs": [
    {
     "name": "stdout",
     "output_type": "stream",
     "text": [
      "[[ 0.12935106 -0.68152951 -0.43355604]\n",
      " [-1.0808026   0.41851963  1.02880331]\n",
      " [ 1.08946402 -1.08365991 -0.29186843]\n",
      " [ 0.09432843  0.69659487 -0.81696699]\n",
      " [-0.96440051 -0.32004844 -0.39125155]]\n",
      "[[ 0.45563553  0.20731085  0.19338916]\n",
      " [ 0.20731085  0.54170987 -0.03641985]\n",
      " [ 0.19338916 -0.03641985  0.5813392 ]]\n",
      "10.55759369799414\n",
      "[4.9057058  1.2882972  1.67050347]\n",
      "[[ 0.74737949 -0.66070748 -0.06992516]\n",
      " [-0.50510943 -0.49667032 -0.70582084]\n",
      " [-0.43161136 -0.56283587  0.70493079]]\n"
     ]
    }
   ],
   "source": [
    "X = np.random.randn(5,3)\n",
    "print(X)\n",
    "\n",
    "C = X.T.dot(X)\n",
    "\n",
    "invC = np.linalg.inv(C)\n",
    "print(invC)\n",
    "detC = np.linalg.det(C)\n",
    "print(detC)\n",
    "S, U = np.linalg.eig(C)\n",
    "print(S)\n",
    "print(U)"
   ]
  },
  {
   "cell_type": "code",
   "execution_count": 115,
   "metadata": {},
   "outputs": [
    {
     "name": "stdout",
     "output_type": "stream",
     "text": [
      "2.23606797749979\n",
      "3.0\n",
      "2.0\n",
      "1.0\n"
     ]
    }
   ],
   "source": [
    "X = np.array([1,2])\n",
    "print(np.linalg.norm(X)) # 2-norm, 맨해튼 거리 \n",
    "print(np.linalg.norm(X, ord=1)) # 1-norm, 유클리드 거리\n",
    "print(np.linalg.norm(X, ord=np.inf)) # inf-norm, 원소들 중 절대값이 가장 큰 값\n",
    "print(np.linalg.norm(X, ord=-np.inf)) # -inf-norm, 원소들 중 절대값이 가장 작은 값"
   ]
  },
  {
   "cell_type": "code",
   "execution_count": 117,
   "metadata": {},
   "outputs": [
    {
     "name": "stdout",
     "output_type": "stream",
     "text": [
      "cosine =  0.0\n",
      "cosine =  0.0\n"
     ]
    }
   ],
   "source": [
    "import math\n",
    "x = np.array([1,0])\n",
    "y = np.array([0,1])\n",
    "print(\"cosine = \", x.dot(y)/(math.sqrt((x.dot(x)))*math.sqrt((y.dot(y)))))\n",
    "print(\"cosine = \", x.dot(y)/(np.linalg.norm(x) * np.linalg.norm(y)))"
   ]
  },
  {
   "cell_type": "code",
   "execution_count": 118,
   "metadata": {},
   "outputs": [
    {
     "name": "stdout",
     "output_type": "stream",
     "text": [
      "[[1.]\n",
      " [2.]\n",
      " [3.]\n",
      " [4.]\n",
      " [5.]]\n",
      "[[1. 2. 3. 4. 5.]]\n"
     ]
    },
    {
     "data": {
      "text/plain": [
       "array([[0., 1., 2., 3., 4.],\n",
       "       [1., 0., 1., 2., 3.],\n",
       "       [2., 1., 0., 1., 2.],\n",
       "       [3., 2., 1., 0., 1.],\n",
       "       [4., 3., 2., 1., 0.]])"
      ]
     },
     "execution_count": 118,
     "metadata": {},
     "output_type": "execute_result"
    }
   ],
   "source": [
    "pts = np.array([1.,2,3,4,5])\n",
    "u = pts[:, np.newaxis]\n",
    "v = pts.T[np.newaxis,:]\n",
    "print(u)\n",
    "print(v)\n",
    "np.abs(u-v)"
   ]
  },
  {
   "cell_type": "code",
   "execution_count": 122,
   "metadata": {},
   "outputs": [
    {
     "name": "stdout",
     "output_type": "stream",
     "text": [
      "(3, 2)\n",
      "(2, 3)\n",
      "(3, 2, 1)\n",
      "(1, 2, 3)\n",
      "[[[1]\n",
      "  [0]]\n",
      "\n",
      " [[1]\n",
      "  [1]]\n",
      "\n",
      " [[0]\n",
      "  [1]]]\n",
      "[[[1 1 0]\n",
      "  [0 1 1]]]\n"
     ]
    }
   ],
   "source": [
    "pts = np.array([[1,0], [1,1], [0,1]])\n",
    "print(pts.shape)\n",
    "u = pts[:,:,np.newaxis]\n",
    "v = pts.T[np.newaxis,:,:]\n",
    "print(pts.T.shape)\n",
    "print(u.shape)\n",
    "print(v.shape)\n",
    "print(u)\n",
    "print(v)"
   ]
  },
  {
   "cell_type": "code",
   "execution_count": 125,
   "metadata": {},
   "outputs": [
    {
     "name": "stdout",
     "output_type": "stream",
     "text": [
      "[[[0 0 1]\n",
      "  [0 1 1]]\n",
      "\n",
      " [[0 0 1]\n",
      "  [1 0 0]]\n",
      "\n",
      " [[1 1 0]\n",
      "  [1 0 0]]]\n"
     ]
    }
   ],
   "source": [
    "print((u-v)**2)"
   ]
  },
  {
   "cell_type": "code",
   "execution_count": 123,
   "metadata": {},
   "outputs": [
    {
     "data": {
      "text/plain": [
       "array([[0.        , 1.        , 1.41421356],\n",
       "       [1.        , 0.        , 1.        ],\n",
       "       [1.41421356, 1.        , 0.        ]])"
      ]
     },
     "execution_count": 123,
     "metadata": {},
     "output_type": "execute_result"
    }
   ],
   "source": [
    "np.sqrt(np.sum((u-v)**2, axis = 1))"
   ]
  },
  {
   "cell_type": "code",
   "execution_count": 128,
   "metadata": {},
   "outputs": [
    {
     "data": {
      "text/plain": [
       "array([[0.        , 1.        , 1.41421356],\n",
       "       [1.        , 0.        , 1.        ],\n",
       "       [1.41421356, 1.        , 0.        ]])"
      ]
     },
     "execution_count": 128,
     "metadata": {},
     "output_type": "execute_result"
    }
   ],
   "source": [
    "np.linalg.norm(u-v, axis=1)"
   ]
  }
 ],
 "metadata": {
  "kernelspec": {
   "display_name": "Python 3",
   "language": "python",
   "name": "python3"
  },
  "language_info": {
   "codemirror_mode": {
    "name": "ipython",
    "version": 3
   },
   "file_extension": ".py",
   "mimetype": "text/x-python",
   "name": "python",
   "nbconvert_exporter": "python",
   "pygments_lexer": "ipython3",
   "version": "3.11.2"
  },
  "orig_nbformat": 4
 },
 "nbformat": 4,
 "nbformat_minor": 2
}
