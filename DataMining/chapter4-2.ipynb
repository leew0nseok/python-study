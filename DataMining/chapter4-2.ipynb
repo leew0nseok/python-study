{
 "cells": [
  {
   "cell_type": "code",
   "execution_count": 1,
   "metadata": {},
   "outputs": [],
   "source": [
    "import re, math, random # regexes, math functions, random numbers \n",
    "import matplotlib.pyplot as plt # pyplot\n",
    "from collections import defaultdict, Counter\n",
    "from functools import partial, reduce"
   ]
  },
  {
   "cell_type": "code",
   "execution_count": 2,
   "metadata": {},
   "outputs": [],
   "source": [
    "height_weight_age = [70, 170, 40]\n",
    "grades = [95, 80, 75, 62]"
   ]
  },
  {
   "cell_type": "code",
   "execution_count": 3,
   "metadata": {},
   "outputs": [
    {
     "data": {
      "image/png": "[encoded data removed]",
      "text/plain": [
       "<Figure size 500x500 with 1 Axes>"
      ]
     },
     "metadata": {},
     "output_type": "display_data"
    }
   ],
   "source": [
    "%matplotlib inline\n",
    "import numpy as np\n",
    "import matplotlib.pyplot as plt\n",
    "plt.figure(figsize=(5,5)) \n",
    "plt.axis([0,4,0,4])\n",
    "v = np.array([1,2])\n",
    "w = np.array([2,1])\n",
    "plt.arrow(0, 0, v[0], v[1], head_width=0.05, head_length=0.1, fc='b', ec='b') \n",
    "plt.arrow(0, 0, w[0], w[1], head_width=0.05, head_length=0.1, fc='g', ec='g') \n",
    "plt.arrow(v[0], v[1], w[0], w[1], head_width=0.05, head_length=0.1, fc='g', ec='g') \n",
    "plt.arrow(0, 0, v[0]+w[0], v[1]+w[1], head_width=0.20, head_length=0.1, fc='r', ec='r') \n",
    "offset=np.array([-0.2,-0.2])\n",
    "plt.annotate('v', xy=v+offset) # 주석으로 표시하는 텍스트 문자열\n",
    "plt.annotate('w', xy=w+offset)\n",
    "plt.annotate('v+w', xy=v+w+offset)\n",
    "plt.show()"
   ]
  },
  {
   "cell_type": "code",
   "execution_count": 5,
   "metadata": {},
   "outputs": [],
   "source": [
    "def vector_add(v, w):\n",
    "    \"\"\"adds two vectors componentwise\"\"\" \n",
    "    return [v_i + w_i for v_i, w_i in zip(v,w)]\n",
    "\n",
    "def vector_subtract(v, w):\n",
    "    \"\"\"subtracts two vectors componentwise\"\"\" \n",
    "    return [v_i - w_i for v_i, w_i in zip(v,w)]\n",
    "\n",
    "def vector_sum(vectors):\n",
    "    return reduce(vector_add, vectors)\n",
    "\n",
    "def scalar_multiply(c, v): \n",
    "    return [c * v_i for v_i in v]\n",
    "\n",
    "def vector_mean(vectors):\n",
    "    \"\"\"compute the vector whose i-th element is the mean of the i-th elements of the input vectors\"\"\"\n",
    "    n = len(vectors)\n",
    "    return scalar_multiply(1/n, vector_sum(vectors))"
   ]
  },
  {
   "cell_type": "code",
   "execution_count": 10,
   "metadata": {},
   "outputs": [
    {
     "data": {
      "text/plain": [
       "[3, 7, 11, 15]"
      ]
     },
     "execution_count": 10,
     "metadata": {},
     "output_type": "execute_result"
    }
   ],
   "source": [
    "z = np.array([[1,3,5,7],[2,4,6,8]])\n",
    "# g = np.array([2,4,6,8])\n",
    "vector_sum(z)"
   ]
  },
  {
   "cell_type": "code",
   "execution_count": 12,
   "metadata": {},
   "outputs": [
    {
     "name": "stdout",
     "output_type": "stream",
     "text": [
      "[1 1 0]\n",
      "[ 1 -1  0]\n",
      "(3, 3)\n",
      "[2 2 1]\n",
      "[3 1 1]\n",
      "[10  0  0]\n",
      "[0.66666667 0.66666667 0.33333333]\n"
     ]
    }
   ],
   "source": [
    "\n",
    "u = np.array([1,1,1]) \n",
    "v = np.array([1,0,0]) \n",
    "w = np.array([0,1,0]) \n",
    "print(v + w)\n",
    "print(v - w)\n",
    "vs = np.array([u ,v, w]) \n",
    "print(vs.shape)\n",
    "print(np.sum(vs, axis=0)) \n",
    "print(np.sum(vs, axis=1)) \n",
    "print(10 * v) \n",
    "print(np.mean(vs, axis=0))"
   ]
  },
  {
   "cell_type": "code",
   "execution_count": 13,
   "metadata": {},
   "outputs": [],
   "source": [
    "def dot(v, w):\n",
    "    \"\"\"v_1 * w_1 + ... + v_n * w_n\"\"\"\n",
    "    return sum(v_i * w_i for v_i, w_i in zip(v, w))\n",
    "def sum_of_squares(v):\n",
    "    \"\"\"v_1 * v_1 + ... + v_n * v_n\"\"\" \n",
    "    return dot(v, v)\n",
    "def magnitude(v):\n",
    "    return math.sqrt(sum_of_squares(v))"
   ]
  },
  {
   "cell_type": "code",
   "execution_count": 14,
   "metadata": {},
   "outputs": [
    {
     "name": "stdout",
     "output_type": "stream",
     "text": [
      "0\n",
      "0\n",
      "1\n",
      "1.0\n",
      "1.0\n"
     ]
    }
   ],
   "source": [
    "v = np.array([1,0,0])\n",
    "w = np.array([0,1,0]) \n",
    "print(np.dot(v,w)) \n",
    "print(v.dot(w)) \n",
    "print(np.dot(v,v)) \n",
    "print(np.sqrt(np.dot(v,v))) \n",
    "print(np.linalg.norm(v))"
   ]
  },
  {
   "cell_type": "code",
   "execution_count": 15,
   "metadata": {},
   "outputs": [],
   "source": [
    "def squared_distance(v, w):\n",
    "    return sum_of_squares(vector_subtract(v, w))\n",
    "\n",
    "def distance(v, w):\n",
    "    return math.sqrt(squared_distance(v, w))\n",
    "\n",
    "def manhattan_distance(v, w):\n",
    "    return sum(math.fabs(v_i - w_i) for v_i, w_i in zip(v, w))"
   ]
  },
  {
   "cell_type": "code",
   "execution_count": 18,
   "metadata": {},
   "outputs": [
    {
     "name": "stdout",
     "output_type": "stream",
     "text": [
      "0.9999999999999999\n",
      "1.0\n",
      "0.0\n",
      "-0.9999999999999998\n"
     ]
    }
   ],
   "source": [
    "def cosine_similarity(v,w):\n",
    "    return dot(v,w) / (magnitude(v) * magnitude(w))\n",
    "\n",
    "v = [0,1,1,0]\n",
    "w = [0,100,100,0]\n",
    "u = [1,0,0,1]\n",
    "y = [-1,0,0,-1]\n",
    "\n",
    "print(cosine_similarity(v,w))\n",
    "print(cosine_similarity(u,v))\n",
    "print(cosine_similarity(u,y))"
   ]
  },
  {
   "cell_type": "code",
   "execution_count": 19,
   "metadata": {},
   "outputs": [
    {
     "name": "stdout",
     "output_type": "stream",
     "text": [
      "162\n",
      "12.727922061357855\n",
      "18.0\n",
      "0.9999999999999998\n"
     ]
    }
   ],
   "source": [
    "v = np.array([1,1])\n",
    "w = np.array([10,10])\n",
    "print(np.dot(v - w, v - w))\n",
    "print(np.sqrt(np.dot(v - w, v - w)))\n",
    "print(np.sum(np.fabs(v - w)))\n",
    "print(np.dot(v,w) / (np.sqrt(np.dot(v,v)) * np.sqrt(np.dot(w,w))))"
   ]
  },
  {
   "cell_type": "code",
   "execution_count": 21,
   "metadata": {},
   "outputs": [
    {
     "name": "stdout",
     "output_type": "stream",
     "text": [
      "0.9999999999999999\n",
      "0.0\n",
      "-0.9999999999999998\n",
      "\n",
      "1.1102230246251565e-16\n",
      "1.0\n",
      "1.9999999999999998\n"
     ]
    }
   ],
   "source": [
    "def cosine_distance(v, w):\n",
    "    return 1 - cosine_similarity(v, w)\n",
    "\n",
    "v = [0,1,1,0]\n",
    "w = [0,100,100,0]\n",
    "u = [1,0,0,1]\n",
    "y = [-1,0,0,-1]\n",
    "\n",
    "print(cosine_similarity(v,w))\n",
    "print(cosine_similarity(u,v))\n",
    "print(cosine_similarity(u,y))\n",
    "print()\n",
    "print(cosine_distance(v,w))\n",
    "print(cosine_distance(u,v))\n",
    "print(cosine_distance(u,y))\n"
   ]
  },
  {
   "cell_type": "code",
   "execution_count": 23,
   "metadata": {},
   "outputs": [
    {
     "name": "stdout",
     "output_type": "stream",
     "text": [
      "[[1, 0, 0, 0, 0], [0, 1, 0, 0, 0], [0, 0, 1, 0, 0], [0, 0, 0, 1, 0], [0, 0, 0, 0, 1]]\n"
     ]
    },
    {
     "data": {
      "text/plain": [
       "[[0, 1, 0, 0, 0],\n",
       " [0, 1, 1, 0, 1],\n",
       " [1, 0, 0, 0, 0],\n",
       " [1, 0, 0, 0, 0],\n",
       " [0, 0, 0, 0, 1]]"
      ]
     },
     "execution_count": 23,
     "metadata": {},
     "output_type": "execute_result"
    }
   ],
   "source": [
    "def shape(A):\n",
    "    num_rows = len(A)\n",
    "    num_cols = len(A[0])\n",
    "    return num_rows, num_cols\n",
    "\n",
    "def get_row(A, i):\n",
    "    return A[i]\n",
    "\n",
    "def get_col(A, j):\n",
    "    return [A_i[j] for A_i in A]\n",
    "\n",
    "def make_matrix(num_rows, num_cols, entry_fn):\n",
    "    return [[entry_fn(i,j) for j in range(num_cols)] for i in range(num_rows)]\n",
    "\n",
    "def is_diagonal(i,j):\n",
    "    return 1 if i == j else 0\n",
    "\n",
    "identity_matrix = make_matrix(5, 5, is_diagonal)\n",
    "print(identity_matrix)\n",
    "\n",
    "import random\n",
    "random_matrix = make_matrix(5, 5, lambda i, j: random.choice([0,1]))\n",
    "random_matrix"
   ]
  },
  {
   "cell_type": "code",
   "execution_count": 24,
   "metadata": {},
   "outputs": [],
   "source": [
    "A = np.array([[1, 2, 3], [4, 5, 6]])\n",
    "B = np.array([[1, 2], [3, 4],[5, 6]])"
   ]
  },
  {
   "cell_type": "code",
   "execution_count": 30,
   "metadata": {},
   "outputs": [
    {
     "name": "stdout",
     "output_type": "stream",
     "text": [
      "(2, 3)\n",
      "[4 5 6]\n",
      "[2 5]\n",
      "[[1. 0. 0. 0. 0.]\n",
      " [0. 1. 0. 0. 0.]\n",
      " [0. 0. 1. 0. 0.]\n",
      " [0. 0. 0. 1. 0.]\n",
      " [0. 0. 0. 0. 1.]]\n",
      "[[1. 0.]\n",
      " [0. 1.]\n",
      " [0. 0.]\n",
      " [0. 0.]]\n"
     ]
    }
   ],
   "source": [
    "print(A.shape)\n",
    "print(A[1,:])\n",
    "print(A[:,1])\n",
    "print(np.eye(5,5))\n",
    "print(np.eye(4,2))\n",
    "\n"
   ]
  },
  {
   "cell_type": "code",
   "execution_count": 31,
   "metadata": {},
   "outputs": [],
   "source": [
    "friendships = [(0, 1), (0, 2), (1, 2), (1, 3), (2, 3), (3, 4), (4, 5), (5, 6), (5, 7), (6, 8), (7, 8), (8, 9)]"
   ]
  },
  {
   "cell_type": "code",
   "execution_count": 32,
   "metadata": {},
   "outputs": [],
   "source": [
    "friendships = [[0, 1, 1, 0, 0, 0, 0, 0, 0, 0], # user 0\n",
    "                [1, 0, 1, 1, 0, 0, 0, 0, 0, 0], # user 1 \n",
    "                [1, 1, 0, 1, 0, 0, 0, 0, 0, 0], # user 2 \n",
    "                [0, 1, 1, 0, 1, 0, 0, 0, 0, 0], # user 3 \n",
    "                [0, 0, 0, 1, 0, 1, 0, 0, 0, 0], # user 4 \n",
    "                [0, 0, 0, 0, 1, 0, 1, 1, 0, 0], # user 5 \n",
    "                [0, 0, 0, 0, 0, 1, 0, 0, 1, 0], # user 6 \n",
    "                [0, 0, 0, 0, 0, 1, 0, 0, 1, 0], # user 7 \n",
    "                [0, 0, 0, 0, 0, 0, 1, 1, 0, 1], # user 8 \n",
    "                [0, 0, 0, 0, 0, 0, 0, 0, 1, 0]]"
   ]
  },
  {
   "cell_type": "code",
   "execution_count": 34,
   "metadata": {},
   "outputs": [
    {
     "data": {
      "text/plain": [
       "False"
      ]
     },
     "execution_count": 34,
     "metadata": {},
     "output_type": "execute_result"
    }
   ],
   "source": [
    "friendships[0][2] == 1\n",
    "friendships[0][8] == 1"
   ]
  },
  {
   "cell_type": "code",
   "execution_count": 36,
   "metadata": {},
   "outputs": [
    {
     "name": "stdout",
     "output_type": "stream",
     "text": [
      "[4, 6, 7]\n"
     ]
    }
   ],
   "source": [
    "friends_of_five = [i for i, is_friend in enumerate(friendships[5]) if is_friend]\n",
    "print(friends_of_five)"
   ]
  },
  {
   "cell_type": "code",
   "execution_count": 37,
   "metadata": {},
   "outputs": [
    {
     "data": {
      "text/plain": [
       "array([[4],\n",
       "       [6],\n",
       "       [7]])"
      ]
     },
     "execution_count": 37,
     "metadata": {},
     "output_type": "execute_result"
    }
   ],
   "source": [
    "friendships = np.array(friendships)\n",
    "friendships[0,2] == 1\n",
    "friendships[0,8] == 1\n",
    "np.argwhere(friendships[5] == 1)"
   ]
  },
  {
   "cell_type": "code",
   "execution_count": 38,
   "metadata": {},
   "outputs": [],
   "source": [
    "def matrix_add(A, B):\n",
    "    if shape(A) != shape(B):\n",
    "        raise ArithmeticError(\"cannot add matrices with different shapes\")\n",
    "    \n",
    "    num_rows, num_cols = shape(A)\n",
    "\n",
    "    def entry_fn(i,j) : return A[i][j] + B[i][j]\n",
    "\n",
    "    return make_matrix(num_rows, num_cols, entry_fn)"
   ]
  },
  {
   "cell_type": "code",
   "execution_count": 45,
   "metadata": {},
   "outputs": [
    {
     "name": "stdout",
     "output_type": "stream",
     "text": [
      "[[4 4]\n",
      " [6 6]]\n",
      "[[3 3]\n",
      " [8 8]]\n",
      "\n",
      "[[1 2]\n",
      " [1 2]]\n",
      "[[1 2]\n",
      " [1 2]]\n",
      "\n",
      "[[ 7  7]\n",
      " [14 14]]\n",
      "[[ 7  7]\n",
      " [14 14]]\n",
      "\n",
      "-2.0000000000000004\n",
      "[[-2.   1. ]\n",
      " [ 1.5 -0.5]]\n",
      "[[1.0000000e+00 0.0000000e+00]\n",
      " [8.8817842e-16 1.0000000e+00]]\n",
      "(array([-0.37228132,  5.37228132]), array([[-0.82456484, -0.41597356],\n",
      "       [ 0.56576746, -0.90937671]]))\n"
     ]
    }
   ],
   "source": [
    "A = np.array([[1,1], [2,2]])\n",
    "B = np.array([[3,3], [4,4]])\n",
    "print(A+B)\n",
    "print(A*B)\n",
    "print()\n",
    "print(np.transpose(A))\n",
    "print(A.T)\n",
    "print()\n",
    "print(A.dot(B))\n",
    "print(np.matmul(A,B))\n",
    "print()\n",
    "C = np.array([[1., 2.], [3., 4.]])\n",
    "print(np.linalg.det(C))\n",
    "print(np.linalg.inv(C))\n",
    "print(C.dot(np.linalg.inv(C)))\n",
    "print(np.linalg.eig(C))\n"
   ]
  },
  {
   "cell_type": "code",
   "execution_count": null,
   "metadata": {},
   "outputs": [],
   "source": []
  }
 ],
 "metadata": {
  "kernelspec": {
   "display_name": "Python 3",
   "language": "python",
   "name": "python3"
  },
  "language_info": {
   "codemirror_mode": {
    "name": "ipython",
    "version": 3
   },
   "file_extension": ".py",
   "mimetype": "text/x-python",
   "name": "python",
   "nbconvert_exporter": "python",
   "pygments_lexer": "ipython3",
   "version": "3.11.2"
  },
  "orig_nbformat": 4
 },
 "nbformat": 4,
 "nbformat_minor": 2
}
