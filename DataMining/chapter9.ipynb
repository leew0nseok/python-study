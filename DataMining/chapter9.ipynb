{
 "cells": [
  {
   "cell_type": "code",
   "execution_count": 1,
   "metadata": {},
   "outputs": [
    {
     "data": {
      "text/html": [
       "<div>\n",
       "<style scoped>\n",
       "    .dataframe tbody tr th:only-of-type {\n",
       "        vertical-align: middle;\n",
       "    }\n",
       "\n",
       "    .dataframe tbody tr th {\n",
       "        vertical-align: top;\n",
       "    }\n",
       "\n",
       "    .dataframe thead th {\n",
       "        text-align: right;\n",
       "    }\n",
       "</style>\n",
       "<table border=\"1\" class=\"dataframe\">\n",
       "  <thead>\n",
       "    <tr style=\"text-align: right;\">\n",
       "      <th></th>\n",
       "      <th>make</th>\n",
       "      <th>model</th>\n",
       "      <th>MSRP</th>\n",
       "      <th>year</th>\n",
       "      <th>dealership</th>\n",
       "    </tr>\n",
       "  </thead>\n",
       "  <tbody>\n",
       "    <tr>\n",
       "      <th>1</th>\n",
       "      <td>Ford</td>\n",
       "      <td>Taurus</td>\n",
       "      <td>27595</td>\n",
       "      <td>2018</td>\n",
       "      <td>Courtesy Ford</td>\n",
       "    </tr>\n",
       "    <tr>\n",
       "      <th>2</th>\n",
       "      <td>Honda</td>\n",
       "      <td>Accord</td>\n",
       "      <td>23570</td>\n",
       "      <td>2018</td>\n",
       "      <td>Capital Honda</td>\n",
       "    </tr>\n",
       "    <tr>\n",
       "      <th>3</th>\n",
       "      <td>Toyota</td>\n",
       "      <td>Camry</td>\n",
       "      <td>23495</td>\n",
       "      <td>2018</td>\n",
       "      <td>Spartan Toyota</td>\n",
       "    </tr>\n",
       "    <tr>\n",
       "      <th>4</th>\n",
       "      <td>Tesla</td>\n",
       "      <td>Model S</td>\n",
       "      <td>68000</td>\n",
       "      <td>2018</td>\n",
       "      <td>N/A</td>\n",
       "    </tr>\n",
       "  </tbody>\n",
       "</table>\n",
       "</div>"
      ],
      "text/plain": [
       "     make    model   MSRP  year      dealership\n",
       "1    Ford   Taurus  27595  2018   Courtesy Ford\n",
       "2   Honda   Accord  23570  2018   Capital Honda\n",
       "3  Toyota    Camry  23495  2018  Spartan Toyota\n",
       "4   Tesla  Model S  68000  2018             N/A"
      ]
     },
     "execution_count": 1,
     "metadata": {},
     "output_type": "execute_result"
    }
   ],
   "source": [
    "from pandas import DataFrame\n",
    "\n",
    "\n",
    "cars = {'make': ['Ford', 'Honda', 'Toyota', 'Tesla'],\n",
    "    'model': ['Taurus', 'Accord', 'Camry', 'Model S'],\n",
    "    'MSRP': [27595, 23570, 23495, 68000]}\n",
    "carData2 = DataFrame(cars, index = [1,2,3,4]) # change the row index #print(carData2)\n",
    "carData2['year'] = 2018 # add column with same value\n",
    "carData2['dealership'] = ['Courtesy Ford','Capital Honda','Spartan Toyota', 'N/A']\n",
    "carData2"
   ]
  },
  {
   "cell_type": "code",
   "execution_count": 3,
   "metadata": {},
   "outputs": [
    {
     "name": "stdout",
     "output_type": "stream",
     "text": [
      "make                  Honda\n",
      "model                Accord\n",
      "MSRP                  23570\n",
      "year                   2018\n",
      "dealership    Capital Honda\n",
      "Name: 2, dtype: object\n"
     ]
    }
   ],
   "source": [
    "print(carData2.iloc[1])"
   ]
  },
  {
   "cell_type": "code",
   "execution_count": 2,
   "metadata": {},
   "outputs": [
    {
     "name": "stdout",
     "output_type": "stream",
     "text": [
      "23570\n",
      "Taurus\n"
     ]
    }
   ],
   "source": [
    "print(carData2.iloc[1,2]) # retrieving second row, third column # integer indexing\n",
    "print(carData2.loc[1,'model']) # retrieving second row, column named 'model'"
   ]
  }
 ],
 "metadata": {
  "kernelspec": {
   "display_name": "Python 3",
   "language": "python",
   "name": "python3"
  },
  "language_info": {
   "codemirror_mode": {
    "name": "ipython",
    "version": 3
   },
   "file_extension": ".py",
   "mimetype": "text/x-python",
   "name": "python",
   "nbconvert_exporter": "python",
   "pygments_lexer": "ipython3",
   "version": "3.11.2"
  },
  "orig_nbformat": 4
 },
 "nbformat": 4,
 "nbformat_minor": 2
}
